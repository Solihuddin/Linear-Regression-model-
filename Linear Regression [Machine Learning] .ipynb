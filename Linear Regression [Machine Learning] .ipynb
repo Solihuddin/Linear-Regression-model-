{
 "cells": [
  {
   "cell_type": "code",
   "execution_count": 1,
   "metadata": {},
   "outputs": [],
   "source": [
    "import numpy as np \n",
    "import pandas as pd \n",
    "\n",
    "import matplotlib.pyplot as plt\n",
    "import seaborn as sns \n",
    "\n",
    "import sklearn.linear_model \n",
    "import sklearn.metrics \n",
    "import sklearn.preprocessing"
   ]
  },
  {
   "cell_type": "code",
   "execution_count": 2,
   "metadata": {},
   "outputs": [
    {
     "data": {
      "text/html": [
       "<div>\n",
       "<style scoped>\n",
       "    .dataframe tbody tr th:only-of-type {\n",
       "        vertical-align: middle;\n",
       "    }\n",
       "\n",
       "    .dataframe tbody tr th {\n",
       "        vertical-align: top;\n",
       "    }\n",
       "\n",
       "    .dataframe thead th {\n",
       "        text-align: right;\n",
       "    }\n",
       "</style>\n",
       "<table border=\"1\" class=\"dataframe\">\n",
       "  <thead>\n",
       "    <tr style=\"text-align: right;\">\n",
       "      <th></th>\n",
       "      <th>TV</th>\n",
       "      <th>radio</th>\n",
       "      <th>newspaper</th>\n",
       "      <th>sales</th>\n",
       "    </tr>\n",
       "  </thead>\n",
       "  <tbody>\n",
       "    <tr>\n",
       "      <th>1</th>\n",
       "      <td>230.1</td>\n",
       "      <td>37.8</td>\n",
       "      <td>69.2</td>\n",
       "      <td>22.1</td>\n",
       "    </tr>\n",
       "    <tr>\n",
       "      <th>2</th>\n",
       "      <td>44.5</td>\n",
       "      <td>39.3</td>\n",
       "      <td>45.1</td>\n",
       "      <td>10.4</td>\n",
       "    </tr>\n",
       "    <tr>\n",
       "      <th>3</th>\n",
       "      <td>17.2</td>\n",
       "      <td>45.9</td>\n",
       "      <td>69.3</td>\n",
       "      <td>9.3</td>\n",
       "    </tr>\n",
       "    <tr>\n",
       "      <th>4</th>\n",
       "      <td>151.5</td>\n",
       "      <td>41.3</td>\n",
       "      <td>58.5</td>\n",
       "      <td>18.5</td>\n",
       "    </tr>\n",
       "    <tr>\n",
       "      <th>5</th>\n",
       "      <td>180.8</td>\n",
       "      <td>10.8</td>\n",
       "      <td>58.4</td>\n",
       "      <td>12.9</td>\n",
       "    </tr>\n",
       "  </tbody>\n",
       "</table>\n",
       "</div>"
      ],
      "text/plain": [
       "      TV  radio  newspaper  sales\n",
       "1  230.1   37.8       69.2   22.1\n",
       "2   44.5   39.3       45.1   10.4\n",
       "3   17.2   45.9       69.3    9.3\n",
       "4  151.5   41.3       58.5   18.5\n",
       "5  180.8   10.8       58.4   12.9"
      ]
     },
     "execution_count": 2,
     "metadata": {},
     "output_type": "execute_result"
    }
   ],
   "source": [
    "sales = pd.read_csv('Advertising.csv', index_col=0)\n",
    "sales.head()"
   ]
  },
  {
   "cell_type": "code",
   "execution_count": 3,
   "metadata": {},
   "outputs": [],
   "source": [
    "from sklearn.linear_model import LinearRegression \n",
    "model = LinearRegression(fit_intercept=True)      # default already; fit_intercept = True "
   ]
  },
  {
   "cell_type": "code",
   "execution_count": 4,
   "metadata": {},
   "outputs": [
    {
     "name": "stdout",
     "output_type": "stream",
     "text": [
      "TV slope    :  0.047536640433019764\n",
      "TV intercept:  7.032593549127693\n"
     ]
    },
    {
     "data": {
      "image/png": "[encoded data removed]",
      "text/plain": [
       "<Figure size 432x288 with 1 Axes>"
      ]
     },
     "metadata": {
      "needs_background": "light"
     },
     "output_type": "display_data"
    }
   ],
   "source": [
    "X = sales[['TV']]     # need in 2-D\n",
    "y = sales['sales']\n",
    "model.fit(X, y)\n",
    "\n",
    "print(\"TV slope    : \", model.coef_[0])\n",
    "print(\"TV intercept: \", model.intercept_)\n",
    "\n",
    "sales.plot.scatter(x='TV', y='sales')\n",
    "plt.plot(sales['TV'], model.predict(sales[['TV']]), c='red')\n",
    "plt.show();"
   ]
  },
  {
   "cell_type": "code",
   "execution_count": 5,
   "metadata": {},
   "outputs": [
    {
     "name": "stdout",
     "output_type": "stream",
     "text": [
      "10.512652915656757\n",
      "0.611875050850071\n"
     ]
    }
   ],
   "source": [
    "from sklearn.metrics import mean_squared_error\n",
    "from sklearn.metrics import r2_score\n",
    "\n",
    "print(mean_squared_error(sales['sales'], model.predict(sales[['TV']]))  )\n",
    "print(r2_score(sales['sales'], model.predict(sales[['TV']]))  )"
   ]
  },
  {
   "cell_type": "code",
   "execution_count": 6,
   "metadata": {},
   "outputs": [
    {
     "name": "stdout",
     "output_type": "stream",
     "text": [
      "TV slope    :  0.20249578339243968\n",
      "TV intercept:  9.311638095158283\n"
     ]
    },
    {
     "data": {
      "image/png": "[encoded data removed]",
      "text/plain": [
       "<Figure size 432x288 with 1 Axes>"
      ]
     },
     "metadata": {
      "needs_background": "light"
     },
     "output_type": "display_data"
    }
   ],
   "source": [
    "X = sales[['radio']]     # need in 2-D\n",
    "y = sales['sales']\n",
    "model.fit(X, y)\n",
    "\n",
    "print(\"TV slope    : \", model.coef_[0])\n",
    "print(\"TV intercept: \", model.intercept_)\n",
    "\n",
    "sales.plot.scatter(x='radio', y='sales')\n",
    "plt.plot(sales['radio'], model.predict(sales[['radio']]), c='red')\n",
    "plt.show();"
   ]
  },
  {
   "cell_type": "code",
   "execution_count": 7,
   "metadata": {},
   "outputs": [
    {
     "name": "stdout",
     "output_type": "stream",
     "text": [
      "18.09239774512544\n",
      "0.33203245544529525\n"
     ]
    }
   ],
   "source": [
    "print(mean_squared_error(sales['sales'], model.predict(sales[['radio']]))  )\n",
    "print(r2_score(sales['sales'], model.predict(sales[['radio']]))  )"
   ]
  },
  {
   "cell_type": "code",
   "execution_count": 8,
   "metadata": {},
   "outputs": [
    {
     "name": "stdout",
     "output_type": "stream",
     "text": [
      "TV slope    :  0.05469309847227336\n",
      "TV intercept:  12.35140706927816\n"
     ]
    },
    {
     "data": {
      "image/png": "[encoded data removed]",
      "text/plain": [
       "<Figure size 432x288 with 1 Axes>"
      ]
     },
     "metadata": {
      "needs_background": "light"
     },
     "output_type": "display_data"
    }
   ],
   "source": [
    "X = sales[['newspaper']]     # need in 2-D\n",
    "y = sales['sales']\n",
    "model.fit(X, y)\n",
    "\n",
    "print(\"TV slope    : \", model.coef_[0])\n",
    "print(\"TV intercept: \", model.intercept_)\n",
    "\n",
    "sales.plot.scatter(x='newspaper', y='sales')\n",
    "plt.plot(sales['newspaper'], model.predict(sales[['newspaper']]), c='red')\n",
    "plt.show();"
   ]
  },
  {
   "cell_type": "code",
   "execution_count": 9,
   "metadata": {},
   "outputs": [
    {
     "name": "stdout",
     "output_type": "stream",
     "text": [
      "25.674022720559698\n",
      "0.05212044544430516\n"
     ]
    }
   ],
   "source": [
    "print(mean_squared_error(sales['sales'], model.predict(sales[['newspaper']]))  )\n",
    "print(r2_score(sales['sales'], model.predict(sales[['newspaper']]))  )"
   ]
  },
  {
   "cell_type": "markdown",
   "metadata": {},
   "source": [
    "Multilinear Regression : "
   ]
  },
  {
   "cell_type": "code",
   "execution_count": 10,
   "metadata": {},
   "outputs": [
    {
     "name": "stdout",
     "output_type": "stream",
     "text": [
      "MLR slope    :  [ 0.04576465  0.18853002 -0.00103749]\n",
      "MLR intercept:  2.9388893694594085\n"
     ]
    }
   ],
   "source": [
    "X = sales[['TV', 'radio', 'newspaper']]\n",
    "y = sales['sales']\n",
    "\n",
    "model.fit(X, y)\n",
    "\n",
    "print(\"MLR slope    : \", model.coef_[:3])\n",
    "print(\"MLR intercept: \", model.intercept_)"
   ]
  },
  {
   "cell_type": "code",
   "execution_count": 11,
   "metadata": {},
   "outputs": [
    {
     "name": "stdout",
     "output_type": "stream",
     "text": [
      "{('newspaper', -0.0010374930424763272), ('radio', 0.18853001691820456), ('TV', 0.045764645455397615)}\n"
     ]
    }
   ],
   "source": [
    "features = ['TV', 'radio', 'newspaper']\n",
    "\n",
    "result = zip(features, model.coef_)\n",
    "resultSet = set(result)\n",
    "\n",
    "print(resultSet)   # sort by alphabet orders"
   ]
  },
  {
   "cell_type": "code",
   "execution_count": 12,
   "metadata": {},
   "outputs": [
    {
     "name": "stdout",
     "output_type": "stream",
     "text": [
      "MSE      : 2.7841263145109365\n",
      "R-square : 0.8972106381789521\n"
     ]
    }
   ],
   "source": [
    "print(\"MSE      :\", mean_squared_error(sales['sales'], model.predict(sales[features]))  )\n",
    "print(\"R-square :\", r2_score(sales['sales'], model.predict(sales[features]))            )"
   ]
  },
  {
   "cell_type": "markdown",
   "metadata": {},
   "source": [
    "#### TV:\n",
    "MSE      : 10.512652915656757\\\n",
    "R-square : 0.611875050850071\n",
    "\n",
    "#### radio:\n",
    "MSE      : 18.09239774512544\\\n",
    "R-square : 0.33203245544529525\n",
    "\n",
    "#### newspaper:\n",
    "MSE      : 25.674022720559698\\\n",
    "R-square : 0.05212044544430516\n",
    "\n",
    "#### MLR:\n",
    "MSE      : 2.7841263145109365\\\n",
    "R-square : 0.8972106381789521"
   ]
  },
  {
   "cell_type": "code",
   "execution_count": null,
   "metadata": {},
   "outputs": [],
   "source": []
  },
  {
   "cell_type": "markdown",
   "metadata": {},
   "source": [
    "Introduce Features Scaling: "
   ]
  },
  {
   "cell_type": "code",
   "execution_count": 13,
   "metadata": {},
   "outputs": [
    {
     "data": {
      "text/html": [
       "<div>\n",
       "<style scoped>\n",
       "    .dataframe tbody tr th:only-of-type {\n",
       "        vertical-align: middle;\n",
       "    }\n",
       "\n",
       "    .dataframe tbody tr th {\n",
       "        vertical-align: top;\n",
       "    }\n",
       "\n",
       "    .dataframe thead th {\n",
       "        text-align: right;\n",
       "    }\n",
       "</style>\n",
       "<table border=\"1\" class=\"dataframe\">\n",
       "  <thead>\n",
       "    <tr style=\"text-align: right;\">\n",
       "      <th></th>\n",
       "      <th>TV</th>\n",
       "      <th>radio</th>\n",
       "      <th>newspaper</th>\n",
       "    </tr>\n",
       "  </thead>\n",
       "  <tbody>\n",
       "    <tr>\n",
       "      <th>1</th>\n",
       "      <td>230.1</td>\n",
       "      <td>37.8</td>\n",
       "      <td>69.2</td>\n",
       "    </tr>\n",
       "    <tr>\n",
       "      <th>2</th>\n",
       "      <td>44.5</td>\n",
       "      <td>39.3</td>\n",
       "      <td>45.1</td>\n",
       "    </tr>\n",
       "    <tr>\n",
       "      <th>3</th>\n",
       "      <td>17.2</td>\n",
       "      <td>45.9</td>\n",
       "      <td>69.3</td>\n",
       "    </tr>\n",
       "    <tr>\n",
       "      <th>4</th>\n",
       "      <td>151.5</td>\n",
       "      <td>41.3</td>\n",
       "      <td>58.5</td>\n",
       "    </tr>\n",
       "    <tr>\n",
       "      <th>5</th>\n",
       "      <td>180.8</td>\n",
       "      <td>10.8</td>\n",
       "      <td>58.4</td>\n",
       "    </tr>\n",
       "  </tbody>\n",
       "</table>\n",
       "</div>"
      ],
      "text/plain": [
       "      TV  radio  newspaper\n",
       "1  230.1   37.8       69.2\n",
       "2   44.5   39.3       45.1\n",
       "3   17.2   45.9       69.3\n",
       "4  151.5   41.3       58.5\n",
       "5  180.8   10.8       58.4"
      ]
     },
     "execution_count": 13,
     "metadata": {},
     "output_type": "execute_result"
    }
   ],
   "source": [
    "X.head()"
   ]
  },
  {
   "cell_type": "code",
   "execution_count": 14,
   "metadata": {},
   "outputs": [
    {
     "data": {
      "text/plain": [
       "array([[ 0.94867429,  0.96224689,  1.51433531],\n",
       "       [-1.19131426,  1.0401788 ,  0.78768252],\n",
       "       [-1.6477566 ,  1.37070964,  1.51699753],\n",
       "       [ 0.14102023,  1.14238689,  1.21465643]])"
      ]
     },
     "execution_count": 14,
     "metadata": {},
     "output_type": "execute_result"
    }
   ],
   "source": [
    "from sklearn.preprocessing import PowerTransformer\n",
    "\n",
    "scaler = PowerTransformer().fit(X)\n",
    "X_scaled = scaler.transform(X)\n",
    "X_scaled[:4,:]\n"
   ]
  },
  {
   "cell_type": "code",
   "execution_count": 15,
   "metadata": {},
   "outputs": [
    {
     "name": "stdout",
     "output_type": "stream",
     "text": [
      "MLR slope    :  [3.97075539 2.76424808 0.0643293 ]\n",
      "MLR intercept:  14.0225\n",
      "MSE      :  2.5064067571002666\n",
      "R-square :  0.9074639862122942\n"
     ]
    }
   ],
   "source": [
    "model.fit(X_scaled, sales['sales'])\n",
    "\n",
    "print(\"MLR slope    : \", model.coef_[:3])\n",
    "print(\"MLR intercept: \", model.intercept_)\n",
    "\n",
    "print(\"MSE      : \", mean_squared_error(sales['sales'], model.predict(X_scaled)))\n",
    "print(\"R-square : \", r2_score(sales['sales'], model.predict(X_scaled)))"
   ]
  },
  {
   "cell_type": "code",
   "execution_count": 16,
   "metadata": {},
   "outputs": [
    {
     "data": {
      "text/plain": [
       "['TV', 'radio', 'newspaper']"
      ]
     },
     "execution_count": 16,
     "metadata": {},
     "output_type": "execute_result"
    }
   ],
   "source": [
    "features"
   ]
  },
  {
   "cell_type": "code",
   "execution_count": 17,
   "metadata": {},
   "outputs": [
    {
     "name": "stdout",
     "output_type": "stream",
     "text": [
      "{('newspaper', 0.06432930163320759), ('TV', 3.9707553863143183), ('radio', 2.7642480807222145)}\n"
     ]
    }
   ],
   "source": [
    "result = zip(features, model.coef_)\n",
    "resultSet = set(result)\n",
    "\n",
    "print(resultSet)"
   ]
  },
  {
   "cell_type": "markdown",
   "metadata": {},
   "source": [
    "Done!\\\n",
    "using the scaling give the better estimation to our model!"
   ]
  }
 ],
 "metadata": {
  "kernelspec": {
   "display_name": "Python 3",
   "language": "python",
   "name": "python3"
  },
  "language_info": {
   "codemirror_mode": {
    "name": "ipython",
    "version": 3
   },
   "file_extension": ".py",
   "mimetype": "text/x-python",
   "name": "python",
   "nbconvert_exporter": "python",
   "pygments_lexer": "ipython3",
   "version": "3.8.3"
  }
 },
 "nbformat": 4,
 "nbformat_minor": 4
}
